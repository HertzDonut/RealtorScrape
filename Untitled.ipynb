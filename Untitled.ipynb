{
 "cells": [
  {
   "cell_type": "code",
   "execution_count": null,
   "id": "4a6fe214-c8ce-4774-a50d-3b9c62715a1c",
   "metadata": {},
   "outputs": [],
   "source": [
    "from bs4 import BeautifulSoup"
   ]
  },
  {
   "cell_type": "code",
   "execution_count": null,
   "id": "71117f1d-f816-48e8-8b63-06a69756051f",
   "metadata": {},
   "outputs": [],
   "source": [
    "# import requests\n",
    "\n",
    "# url = 'https://www.realtor.ca/realtor-search-results#page=1&sort=11-A'\n",
    "# response = requests.get(url)\n",
    "# html_content = response.content"
   ]
  },
  {
   "cell_type": "code",
   "execution_count": null,
   "id": "326c888f-1b57-4462-8508-9132daf65f15",
   "metadata": {},
   "outputs": [],
   "source": [
    "with open('samplehtml.txt', 'r') as f:\n",
    "    file_contents = f.read()"
   ]
  },
  {
   "cell_type": "code",
   "execution_count": null,
   "id": "2bb3c942-37cf-44a6-9685-cdb2af73302b",
   "metadata": {},
   "outputs": [],
   "source": [
    "soup = BeautifulSoup(file_contents, 'html.parser')"
   ]
  },
  {
   "cell_type": "code",
   "execution_count": null,
   "id": "de7c8ff1-be34-4516-8a37-6386d146ea0e",
   "metadata": {},
   "outputs": [],
   "source": [
    "elements = soup.find_all('a', class_='realtorCardDetailsLink')"
   ]
  },
  {
   "cell_type": "code",
   "execution_count": null,
   "id": "26ad4cc7-e0c3-4a35-a810-73a9e46d216f",
   "metadata": {},
   "outputs": [],
   "source": [
    "realtor_list = []\n",
    "for element in elements:\n",
    "    dynamic_list = []\n",
    "   \n",
    "    realtor_name = element.find('span', class_='realtorCardName').text.strip()\n",
    "    realtor_title = element.find('div', class_='realtorCardTitle').text.strip()\n",
    "    realtor_office_name = element.find('div', class_='realtorCardOfficeName').text.strip()\n",
    "    realtor_office_address = element.find('div', class_='realtorCardOfficeAddress').text.strip()\n",
    "\n",
    "    dynamic_list.append(realtor_name)\n",
    "    dynamic_list.append(realtor_title)\n",
    "    dynamic_list.append(realtor_office_name)\n",
    "    dynamic_list.append(realtor_office_address)\n",
    "    realtor_list.append(dynamic_list)\n",
    "    "
   ]
  },
  {
   "cell_type": "code",
   "execution_count": null,
   "id": "8c7c63e3-4d75-405d-96ac-e0dd89f2e0f2",
   "metadata": {},
   "outputs": [],
   "source": []
  }
 ],
 "metadata": {
  "kernelspec": {
   "display_name": "Python 3 (ipykernel)",
   "language": "python",
   "name": "python3"
  },
  "language_info": {
   "codemirror_mode": {
    "name": "ipython",
    "version": 3
   },
   "file_extension": ".py",
   "mimetype": "text/x-python",
   "name": "python",
   "nbconvert_exporter": "python",
   "pygments_lexer": "ipython3",
   "version": "3.9.13"
  }
 },
 "nbformat": 4,
 "nbformat_minor": 5
}
